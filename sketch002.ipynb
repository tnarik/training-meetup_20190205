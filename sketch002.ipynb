{
 "cells": [
  {
   "cell_type": "markdown",
   "metadata": {},
   "source": [
    "`sketch001` is a really terrible notebook put together during the actual 1h hackathon/challenge.\n",
    "\n",
    "it is awful because it barely has any structure and I've been away from this kind of things/code for almost a year and a half, which means I forgot some pretty basic stuff. but really really basic stuff.\n",
    "\n",
    "this second notebook is my attempt to get (1) structure and (2) something working more or less quickly (ideally in under an hour). there is a version of a solution under `doc`, but I'll try not to pay any attention to that other than to copy all responses to start with tomorrow morning, right after my breakfast and before going to the wall for another 25 autobelay goes (or more). anyway, enough for tonight/today."
   ]
  },
  {
   "cell_type": "markdown",
   "metadata": {
    "ExecuteTime": {
     "end_time": "2019-02-06T09:20:26.132431Z",
     "start_time": "2019-02-06T09:20:26.127406Z"
    }
   },
   "source": [
    "# Preparation"
   ]
  },
  {
   "cell_type": "code",
   "execution_count": 46,
   "metadata": {
    "ExecuteTime": {
     "end_time": "2019-02-06T09:33:55.892256Z",
     "start_time": "2019-02-06T09:33:55.888811Z"
    }
   },
   "outputs": [],
   "source": [
    "import pandas as pd\n",
    "import numpy as np\n",
    "import matplotlib.pyplot as plt"
   ]
  },
  {
   "cell_type": "code",
   "execution_count": 4,
   "metadata": {
    "ExecuteTime": {
     "end_time": "2019-02-06T09:22:21.939669Z",
     "start_time": "2019-02-06T09:22:21.794185Z"
    }
   },
   "outputs": [],
   "source": [
    "listings = pd.read_csv(\"./data/Edinburgh_AirBnb_listings_2.csv\")\n",
    "reviews = pd.read_csv(\"./data/Edinburgh_reviews_reduced.csv\")"
   ]
  },
  {
   "cell_type": "code",
   "execution_count": 6,
   "metadata": {
    "ExecuteTime": {
     "end_time": "2019-02-06T09:22:30.899883Z",
     "start_time": "2019-02-06T09:22:30.882848Z"
    }
   },
   "outputs": [
    {
     "data": {
      "text/html": [
       "<div>\n",
       "<style>\n",
       "    .dataframe thead tr:only-child th {\n",
       "        text-align: right;\n",
       "    }\n",
       "\n",
       "    .dataframe thead th {\n",
       "        text-align: left;\n",
       "    }\n",
       "\n",
       "    .dataframe tbody tr th {\n",
       "        vertical-align: top;\n",
       "    }\n",
       "</style>\n",
       "<table border=\"1\" class=\"dataframe\">\n",
       "  <thead>\n",
       "    <tr style=\"text-align: right;\">\n",
       "      <th></th>\n",
       "      <th>listing_id</th>\n",
       "      <th>name</th>\n",
       "      <th>host_id</th>\n",
       "      <th>host_name</th>\n",
       "      <th>neighbourhood</th>\n",
       "      <th>latitude</th>\n",
       "      <th>longitude</th>\n",
       "      <th>room_type</th>\n",
       "      <th>price</th>\n",
       "      <th>minimum_nights</th>\n",
       "      <th>last_review</th>\n",
       "      <th>reviews_per_month</th>\n",
       "      <th>calculated_host_listings_count</th>\n",
       "      <th>availability_365</th>\n",
       "    </tr>\n",
       "  </thead>\n",
       "  <tbody>\n",
       "    <tr>\n",
       "      <th>0</th>\n",
       "      <td>15420</td>\n",
       "      <td>Georgian Boutique Apt City Centre</td>\n",
       "      <td>60423</td>\n",
       "      <td>Charlotte</td>\n",
       "      <td>Old Town, Princes Street and Leith Street</td>\n",
       "      <td>55.956892</td>\n",
       "      <td>-3.187677</td>\n",
       "      <td>Entire home/apt</td>\n",
       "      <td>80</td>\n",
       "      <td>3</td>\n",
       "      <td>14/11/2018</td>\n",
       "      <td>2.58</td>\n",
       "      <td>1</td>\n",
       "      <td>268</td>\n",
       "    </tr>\n",
       "    <tr>\n",
       "      <th>1</th>\n",
       "      <td>24288</td>\n",
       "      <td>Cool central Loft, sleeps 4, 2 double bed+en-s...</td>\n",
       "      <td>46498</td>\n",
       "      <td>Gordon</td>\n",
       "      <td>Meadows and Southside</td>\n",
       "      <td>55.942646</td>\n",
       "      <td>-3.184670</td>\n",
       "      <td>Entire home/apt</td>\n",
       "      <td>115</td>\n",
       "      <td>2</td>\n",
       "      <td>04/11/2018</td>\n",
       "      <td>1.73</td>\n",
       "      <td>2</td>\n",
       "      <td>66</td>\n",
       "    </tr>\n",
       "    <tr>\n",
       "      <th>2</th>\n",
       "      <td>33821</td>\n",
       "      <td>Stunning Central Edinburgh Festival Entire Flat</td>\n",
       "      <td>146109</td>\n",
       "      <td>Iona</td>\n",
       "      <td>Broughton North and Powderhall</td>\n",
       "      <td>55.964772</td>\n",
       "      <td>-3.189864</td>\n",
       "      <td>Entire home/apt</td>\n",
       "      <td>85</td>\n",
       "      <td>2</td>\n",
       "      <td>28/08/2018</td>\n",
       "      <td>2.02</td>\n",
       "      <td>2</td>\n",
       "      <td>122</td>\n",
       "    </tr>\n",
       "  </tbody>\n",
       "</table>\n",
       "</div>"
      ],
      "text/plain": [
       "   listing_id                                               name  host_id  \\\n",
       "0       15420                  Georgian Boutique Apt City Centre    60423   \n",
       "1       24288  Cool central Loft, sleeps 4, 2 double bed+en-s...    46498   \n",
       "2       33821    Stunning Central Edinburgh Festival Entire Flat   146109   \n",
       "\n",
       "   host_name                              neighbourhood   latitude  longitude  \\\n",
       "0  Charlotte  Old Town, Princes Street and Leith Street  55.956892  -3.187677   \n",
       "1     Gordon                      Meadows and Southside  55.942646  -3.184670   \n",
       "2       Iona             Broughton North and Powderhall  55.964772  -3.189864   \n",
       "\n",
       "         room_type  price  minimum_nights last_review  reviews_per_month  \\\n",
       "0  Entire home/apt     80               3  14/11/2018               2.58   \n",
       "1  Entire home/apt    115               2  04/11/2018               1.73   \n",
       "2  Entire home/apt     85               2  28/08/2018               2.02   \n",
       "\n",
       "   calculated_host_listings_count  availability_365  \n",
       "0                               1               268  \n",
       "1                               2                66  \n",
       "2                               2               122  "
      ]
     },
     "execution_count": 6,
     "metadata": {},
     "output_type": "execute_result"
    }
   ],
   "source": [
    "listings.head(3)"
   ]
  },
  {
   "cell_type": "code",
   "execution_count": 7,
   "metadata": {
    "ExecuteTime": {
     "end_time": "2019-02-06T09:22:36.069168Z",
     "start_time": "2019-02-06T09:22:36.058701Z"
    }
   },
   "outputs": [
    {
     "data": {
      "text/html": [
       "<div>\n",
       "<style>\n",
       "    .dataframe thead tr:only-child th {\n",
       "        text-align: right;\n",
       "    }\n",
       "\n",
       "    .dataframe thead th {\n",
       "        text-align: left;\n",
       "    }\n",
       "\n",
       "    .dataframe tbody tr th {\n",
       "        vertical-align: top;\n",
       "    }\n",
       "</style>\n",
       "<table border=\"1\" class=\"dataframe\">\n",
       "  <thead>\n",
       "    <tr style=\"text-align: right;\">\n",
       "      <th></th>\n",
       "      <th>listing_id</th>\n",
       "      <th>review_id</th>\n",
       "      <th>date</th>\n",
       "      <th>reviewer_id</th>\n",
       "      <th>reviewer_name</th>\n",
       "      <th>comments</th>\n",
       "    </tr>\n",
       "  </thead>\n",
       "  <tbody>\n",
       "    <tr>\n",
       "      <th>0</th>\n",
       "      <td>15420</td>\n",
       "      <td>171793</td>\n",
       "      <td>18/01/2011</td>\n",
       "      <td>186358</td>\n",
       "      <td>Nels</td>\n",
       "      <td>My wife and I stayed at this beautiful apartme...</td>\n",
       "    </tr>\n",
       "    <tr>\n",
       "      <th>1</th>\n",
       "      <td>15420</td>\n",
       "      <td>176350</td>\n",
       "      <td>31/01/2011</td>\n",
       "      <td>95218</td>\n",
       "      <td>Gareth</td>\n",
       "      <td>Charlotte couldn't have been a more thoughtful...</td>\n",
       "    </tr>\n",
       "    <tr>\n",
       "      <th>2</th>\n",
       "      <td>15420</td>\n",
       "      <td>232149</td>\n",
       "      <td>19/04/2011</td>\n",
       "      <td>429751</td>\n",
       "      <td>Guido</td>\n",
       "      <td>I went to Edinburgh for the second time on Apr...</td>\n",
       "    </tr>\n",
       "  </tbody>\n",
       "</table>\n",
       "</div>"
      ],
      "text/plain": [
       "   listing_id  review_id        date  reviewer_id reviewer_name  \\\n",
       "0       15420     171793  18/01/2011       186358          Nels   \n",
       "1       15420     176350  31/01/2011        95218        Gareth   \n",
       "2       15420     232149  19/04/2011       429751         Guido   \n",
       "\n",
       "                                            comments  \n",
       "0  My wife and I stayed at this beautiful apartme...  \n",
       "1  Charlotte couldn't have been a more thoughtful...  \n",
       "2  I went to Edinburgh for the second time on Apr...  "
      ]
     },
     "execution_count": 7,
     "metadata": {},
     "output_type": "execute_result"
    }
   ],
   "source": [
    "reviews.head(3)"
   ]
  },
  {
   "cell_type": "markdown",
   "metadata": {
    "ExecuteTime": {
     "end_time": "2019-02-06T09:20:26.132431Z",
     "start_time": "2019-02-06T09:20:26.127406Z"
    }
   },
   "source": [
    "# Questions"
   ]
  },
  {
   "cell_type": "markdown",
   "metadata": {},
   "source": [
    "## 1. How many listings are there for each room type?"
   ]
  },
  {
   "cell_type": "code",
   "execution_count": 10,
   "metadata": {
    "ExecuteTime": {
     "end_time": "2019-02-06T09:23:18.024672Z",
     "start_time": "2019-02-06T09:23:18.017101Z"
    }
   },
   "outputs": [
    {
     "data": {
      "text/plain": [
       "Entire home/apt    7366\n",
       "Private room       4582\n",
       "Shared room          37\n",
       "Name: room_type, dtype: int64"
      ]
     },
     "execution_count": 10,
     "metadata": {},
     "output_type": "execute_result"
    }
   ],
   "source": [
    "listings.room_type.value_counts()"
   ]
  },
  {
   "cell_type": "markdown",
   "metadata": {},
   "source": [
    "## 2. What is the average price for Listings in each neighbourhood?"
   ]
  },
  {
   "cell_type": "code",
   "execution_count": 24,
   "metadata": {
    "ExecuteTime": {
     "end_time": "2019-02-06T09:25:54.190581Z",
     "start_time": "2019-02-06T09:25:54.173018Z"
    }
   },
   "outputs": [
    {
     "data": {
      "text/html": [
       "<div>\n",
       "<style>\n",
       "    .dataframe thead tr:only-child th {\n",
       "        text-align: right;\n",
       "    }\n",
       "\n",
       "    .dataframe thead th {\n",
       "        text-align: left;\n",
       "    }\n",
       "\n",
       "    .dataframe tbody tr th {\n",
       "        vertical-align: top;\n",
       "    }\n",
       "</style>\n",
       "<table border=\"1\" class=\"dataframe\">\n",
       "  <thead>\n",
       "    <tr style=\"text-align: right;\">\n",
       "      <th></th>\n",
       "      <th>price</th>\n",
       "    </tr>\n",
       "    <tr>\n",
       "      <th>neighbourhood</th>\n",
       "      <th></th>\n",
       "    </tr>\n",
       "  </thead>\n",
       "  <tbody>\n",
       "    <tr>\n",
       "      <th>Abbeyhill</th>\n",
       "      <td>84.635870</td>\n",
       "    </tr>\n",
       "    <tr>\n",
       "      <th>Baberton and Juniper Green</th>\n",
       "      <td>81.928571</td>\n",
       "    </tr>\n",
       "    <tr>\n",
       "      <th>Balerno and Bonnington Village</th>\n",
       "      <td>68.866667</td>\n",
       "    </tr>\n",
       "    <tr>\n",
       "      <th>Balgreen and Roseburn</th>\n",
       "      <td>70.413333</td>\n",
       "    </tr>\n",
       "    <tr>\n",
       "      <th>Barnton, Cammo and Cramond South</th>\n",
       "      <td>106.750000</td>\n",
       "    </tr>\n",
       "    <tr>\n",
       "      <th>Bingham, Magdalene and The Christians</th>\n",
       "      <td>56.000000</td>\n",
       "    </tr>\n",
       "    <tr>\n",
       "      <th>Blackford, West Mains and Mayfield Road</th>\n",
       "      <td>74.518182</td>\n",
       "    </tr>\n",
       "    <tr>\n",
       "      <th>Blackhall</th>\n",
       "      <td>76.363636</td>\n",
       "    </tr>\n",
       "    <tr>\n",
       "      <th>Bonaly and The Pentlands</th>\n",
       "      <td>79.777778</td>\n",
       "    </tr>\n",
       "    <tr>\n",
       "      <th>Bonnington</th>\n",
       "      <td>76.449438</td>\n",
       "    </tr>\n",
       "    <tr>\n",
       "      <th>Boswall and Pilton</th>\n",
       "      <td>70.777778</td>\n",
       "    </tr>\n",
       "    <tr>\n",
       "      <th>Broomhouse and Bankhead</th>\n",
       "      <td>436.666667</td>\n",
       "    </tr>\n",
       "    <tr>\n",
       "      <th>Broughton North and Powderhall</th>\n",
       "      <td>129.201149</td>\n",
       "    </tr>\n",
       "    <tr>\n",
       "      <th>Broughton South</th>\n",
       "      <td>94.214912</td>\n",
       "    </tr>\n",
       "    <tr>\n",
       "      <th>Bruntsfield</th>\n",
       "      <td>120.468000</td>\n",
       "    </tr>\n",
       "    <tr>\n",
       "      <th>Canongate, Southside and Dumbiedykes</th>\n",
       "      <td>106.904632</td>\n",
       "    </tr>\n",
       "    <tr>\n",
       "      <th>Canonmills and New Town North</th>\n",
       "      <td>111.708520</td>\n",
       "    </tr>\n",
       "    <tr>\n",
       "      <th>Carrick Knowe</th>\n",
       "      <td>112.909091</td>\n",
       "    </tr>\n",
       "    <tr>\n",
       "      <th>Clermiston and Drumbrae</th>\n",
       "      <td>107.320000</td>\n",
       "    </tr>\n",
       "    <tr>\n",
       "      <th>Clovenstone and Wester Hailes</th>\n",
       "      <td>55.444444</td>\n",
       "    </tr>\n",
       "    <tr>\n",
       "      <th>Colinton Mains and Firrhill</th>\n",
       "      <td>58.724138</td>\n",
       "    </tr>\n",
       "    <tr>\n",
       "      <th>Colinton and Kingsknowe</th>\n",
       "      <td>64.344828</td>\n",
       "    </tr>\n",
       "    <tr>\n",
       "      <th>Comely Bank</th>\n",
       "      <td>92.876190</td>\n",
       "    </tr>\n",
       "    <tr>\n",
       "      <th>Comiston and Swanston</th>\n",
       "      <td>66.666667</td>\n",
       "    </tr>\n",
       "    <tr>\n",
       "      <th>Corstorphine</th>\n",
       "      <td>80.583333</td>\n",
       "    </tr>\n",
       "    <tr>\n",
       "      <th>Corstorphine North</th>\n",
       "      <td>80.928571</td>\n",
       "    </tr>\n",
       "    <tr>\n",
       "      <th>Corstorphine South</th>\n",
       "      <td>65.714286</td>\n",
       "    </tr>\n",
       "    <tr>\n",
       "      <th>Craigentinny</th>\n",
       "      <td>65.227273</td>\n",
       "    </tr>\n",
       "    <tr>\n",
       "      <th>Craigleith, Orchard Brae and Crewe Toll</th>\n",
       "      <td>101.439394</td>\n",
       "    </tr>\n",
       "    <tr>\n",
       "      <th>Craiglockhart</th>\n",
       "      <td>79.673469</td>\n",
       "    </tr>\n",
       "    <tr>\n",
       "      <th>...</th>\n",
       "      <td>...</td>\n",
       "    </tr>\n",
       "    <tr>\n",
       "      <th>Northfield and Piershill</th>\n",
       "      <td>60.098039</td>\n",
       "    </tr>\n",
       "    <tr>\n",
       "      <th>Old Town, Princes Street and Leith Street</th>\n",
       "      <td>128.432400</td>\n",
       "    </tr>\n",
       "    <tr>\n",
       "      <th>Oxgangs</th>\n",
       "      <td>50.058824</td>\n",
       "    </tr>\n",
       "    <tr>\n",
       "      <th>Parkhead and Sighthill</th>\n",
       "      <td>59.181818</td>\n",
       "    </tr>\n",
       "    <tr>\n",
       "      <th>Pilrig</th>\n",
       "      <td>103.795455</td>\n",
       "    </tr>\n",
       "    <tr>\n",
       "      <th>Polwarth</th>\n",
       "      <td>76.567568</td>\n",
       "    </tr>\n",
       "    <tr>\n",
       "      <th>Portobello</th>\n",
       "      <td>73.000000</td>\n",
       "    </tr>\n",
       "    <tr>\n",
       "      <th>Prestonfield</th>\n",
       "      <td>72.551724</td>\n",
       "    </tr>\n",
       "    <tr>\n",
       "      <th>Queensferry East</th>\n",
       "      <td>75.913043</td>\n",
       "    </tr>\n",
       "    <tr>\n",
       "      <th>Queensferry West</th>\n",
       "      <td>64.625000</td>\n",
       "    </tr>\n",
       "    <tr>\n",
       "      <th>Ratho, Ingliston and Gogar</th>\n",
       "      <td>89.500000</td>\n",
       "    </tr>\n",
       "    <tr>\n",
       "      <th>Restalrig (Loganlea) and Craigentinny West</th>\n",
       "      <td>65.610169</td>\n",
       "    </tr>\n",
       "    <tr>\n",
       "      <th>Restalrig and Lochend</th>\n",
       "      <td>93.600000</td>\n",
       "    </tr>\n",
       "    <tr>\n",
       "      <th>Shandon</th>\n",
       "      <td>82.755102</td>\n",
       "    </tr>\n",
       "    <tr>\n",
       "      <th>Siverknowes and Davidson's Mains</th>\n",
       "      <td>79.269231</td>\n",
       "    </tr>\n",
       "    <tr>\n",
       "      <th>Slateford and Chesser</th>\n",
       "      <td>156.920000</td>\n",
       "    </tr>\n",
       "    <tr>\n",
       "      <th>South Gyle</th>\n",
       "      <td>91.171429</td>\n",
       "    </tr>\n",
       "    <tr>\n",
       "      <th>South Leith</th>\n",
       "      <td>70.121673</td>\n",
       "    </tr>\n",
       "    <tr>\n",
       "      <th>Stenhouse and Saughton Mains</th>\n",
       "      <td>56.933333</td>\n",
       "    </tr>\n",
       "    <tr>\n",
       "      <th>Stockbridge</th>\n",
       "      <td>110.423188</td>\n",
       "    </tr>\n",
       "    <tr>\n",
       "      <th>The Calders</th>\n",
       "      <td>2037.461538</td>\n",
       "    </tr>\n",
       "    <tr>\n",
       "      <th>The Grange</th>\n",
       "      <td>90.617886</td>\n",
       "    </tr>\n",
       "    <tr>\n",
       "      <th>The Inch</th>\n",
       "      <td>222.242424</td>\n",
       "    </tr>\n",
       "    <tr>\n",
       "      <th>The Shore and Constitution Street</th>\n",
       "      <td>85.000000</td>\n",
       "    </tr>\n",
       "    <tr>\n",
       "      <th>Tollcross</th>\n",
       "      <td>112.190789</td>\n",
       "    </tr>\n",
       "    <tr>\n",
       "      <th>Trinity</th>\n",
       "      <td>83.558442</td>\n",
       "    </tr>\n",
       "    <tr>\n",
       "      <th>Trinity East and The Dudleys</th>\n",
       "      <td>82.904762</td>\n",
       "    </tr>\n",
       "    <tr>\n",
       "      <th>West Pilton</th>\n",
       "      <td>105.787234</td>\n",
       "    </tr>\n",
       "    <tr>\n",
       "      <th>Western Harbour and Leith Docks</th>\n",
       "      <td>104.822785</td>\n",
       "    </tr>\n",
       "    <tr>\n",
       "      <th>Willowbrae and Duddingston Village</th>\n",
       "      <td>74.311828</td>\n",
       "    </tr>\n",
       "  </tbody>\n",
       "</table>\n",
       "<p>111 rows × 1 columns</p>\n",
       "</div>"
      ],
      "text/plain": [
       "                                                  price\n",
       "neighbourhood                                          \n",
       "Abbeyhill                                     84.635870\n",
       "Baberton and Juniper Green                    81.928571\n",
       "Balerno and Bonnington Village                68.866667\n",
       "Balgreen and Roseburn                         70.413333\n",
       "Barnton, Cammo and Cramond South             106.750000\n",
       "Bingham, Magdalene and The Christians         56.000000\n",
       "Blackford, West Mains and Mayfield Road       74.518182\n",
       "Blackhall                                     76.363636\n",
       "Bonaly and The Pentlands                      79.777778\n",
       "Bonnington                                    76.449438\n",
       "Boswall and Pilton                            70.777778\n",
       "Broomhouse and Bankhead                      436.666667\n",
       "Broughton North and Powderhall               129.201149\n",
       "Broughton South                               94.214912\n",
       "Bruntsfield                                  120.468000\n",
       "Canongate, Southside and Dumbiedykes         106.904632\n",
       "Canonmills and New Town North                111.708520\n",
       "Carrick Knowe                                112.909091\n",
       "Clermiston and Drumbrae                      107.320000\n",
       "Clovenstone and Wester Hailes                 55.444444\n",
       "Colinton Mains and Firrhill                   58.724138\n",
       "Colinton and Kingsknowe                       64.344828\n",
       "Comely Bank                                   92.876190\n",
       "Comiston and Swanston                         66.666667\n",
       "Corstorphine                                  80.583333\n",
       "Corstorphine North                            80.928571\n",
       "Corstorphine South                            65.714286\n",
       "Craigentinny                                  65.227273\n",
       "Craigleith, Orchard Brae and Crewe Toll      101.439394\n",
       "Craiglockhart                                 79.673469\n",
       "...                                                 ...\n",
       "Northfield and Piershill                      60.098039\n",
       "Old Town, Princes Street and Leith Street    128.432400\n",
       "Oxgangs                                       50.058824\n",
       "Parkhead and Sighthill                        59.181818\n",
       "Pilrig                                       103.795455\n",
       "Polwarth                                      76.567568\n",
       "Portobello                                    73.000000\n",
       "Prestonfield                                  72.551724\n",
       "Queensferry East                              75.913043\n",
       "Queensferry West                              64.625000\n",
       "Ratho, Ingliston and Gogar                    89.500000\n",
       "Restalrig (Loganlea) and Craigentinny West    65.610169\n",
       "Restalrig and Lochend                         93.600000\n",
       "Shandon                                       82.755102\n",
       "Siverknowes and Davidson's Mains              79.269231\n",
       "Slateford and Chesser                        156.920000\n",
       "South Gyle                                    91.171429\n",
       "South Leith                                   70.121673\n",
       "Stenhouse and Saughton Mains                  56.933333\n",
       "Stockbridge                                  110.423188\n",
       "The Calders                                 2037.461538\n",
       "The Grange                                    90.617886\n",
       "The Inch                                     222.242424\n",
       "The Shore and Constitution Street             85.000000\n",
       "Tollcross                                    112.190789\n",
       "Trinity                                       83.558442\n",
       "Trinity East and The Dudleys                  82.904762\n",
       "West Pilton                                  105.787234\n",
       "Western Harbour and Leith Docks              104.822785\n",
       "Willowbrae and Duddingston Village            74.311828\n",
       "\n",
       "[111 rows x 1 columns]"
      ]
     },
     "execution_count": 24,
     "metadata": {},
     "output_type": "execute_result"
    }
   ],
   "source": [
    "avg_prices = listings[['neighbourhood', 'price']].groupby(by='neighbourhood').mean()\n",
    "\n",
    "#print(avg_prices.loc['Abbeyhill'])\n",
    "avg_prices"
   ]
  },
  {
   "cell_type": "markdown",
   "metadata": {},
   "source": [
    "## 3. What is the distribution of minimum nights by room type?"
   ]
  },
  {
   "cell_type": "code",
   "execution_count": 28,
   "metadata": {
    "ExecuteTime": {
     "end_time": "2019-02-06T09:27:38.276257Z",
     "start_time": "2019-02-06T09:27:37.667632Z"
    }
   },
   "outputs": [
    {
     "data": {
      "text/plain": [
       "room_type\n",
       "Entire home/apt    [[Axes(0.125,0.125;0.775x0.755)]]\n",
       "Private room       [[Axes(0.125,0.125;0.775x0.755)]]\n",
       "Shared room        [[Axes(0.125,0.125;0.775x0.755)]]\n",
       "dtype: object"
      ]
     },
     "execution_count": 28,
     "metadata": {},
     "output_type": "execute_result"
    },
    {
     "data": {
      "image/png": "[encoded data removed]",
      "text/plain": [
       "<matplotlib.figure.Figure at 0x113dcc6a0>"
      ]
     },
     "metadata": {},
     "output_type": "display_data"
    },
    {
     "data": {
      "image/png": "[encoded data removed]",
      "text/plain": [
       "<matplotlib.figure.Figure at 0x113f03208>"
      ]
     },
     "metadata": {},
     "output_type": "display_data"
    },
    {
     "data": {
      "image/png": "[encoded data removed]",
      "text/plain": [
       "<matplotlib.figure.Figure at 0x11406a978>"
      ]
     },
     "metadata": {},
     "output_type": "display_data"
    }
   ],
   "source": [
    "listings[['room_type', 'minimum_nights']].groupby('room_type').hist()"
   ]
  },
  {
   "cell_type": "code",
   "execution_count": 29,
   "metadata": {
    "ExecuteTime": {
     "end_time": "2019-02-06T09:27:59.837619Z",
     "start_time": "2019-02-06T09:27:59.410618Z"
    }
   },
   "outputs": [
    {
     "data": {
      "text/plain": [
       "array([[<matplotlib.axes._subplots.AxesSubplot object at 0x11407c8d0>,\n",
       "        <matplotlib.axes._subplots.AxesSubplot object at 0x11896c4e0>],\n",
       "       [<matplotlib.axes._subplots.AxesSubplot object at 0x1189bc5c0>,\n",
       "        <matplotlib.axes._subplots.AxesSubplot object at 0x118a31e10>]], dtype=object)"
      ]
     },
     "execution_count": 29,
     "metadata": {},
     "output_type": "execute_result"
    },
    {
     "data": {
      "image/png": "[encoded data removed]",
      "text/plain": [
       "<matplotlib.figure.Figure at 0x113e08d68>"
      ]
     },
     "metadata": {},
     "output_type": "display_data"
    }
   ],
   "source": [
    "listings[['room_type', 'minimum_nights']].hist(by='room_type', bins=10)"
   ]
  },
  {
   "cell_type": "markdown",
   "metadata": {},
   "source": [
    "But the choice plots in the answer are between 0 and 20."
   ]
  },
  {
   "cell_type": "code",
   "execution_count": 63,
   "metadata": {
    "ExecuteTime": {
     "end_time": "2019-02-06T09:37:58.424599Z",
     "start_time": "2019-02-06T09:37:57.853051Z"
    }
   },
   "outputs": [
    {
     "data": {
      "image/png": "[encoded data removed]",
      "text/plain": [
       "<matplotlib.figure.Figure at 0x1197ee3c8>"
      ]
     },
     "metadata": {},
     "output_type": "display_data"
    },
    {
     "data": {
      "image/png": "[encoded data removed]",
      "text/plain": [
       "<matplotlib.figure.Figure at 0x11933b470>"
      ]
     },
     "metadata": {},
     "output_type": "display_data"
    },
    {
     "data": {
      "image/png": "[encoded data removed]",
      "text/plain": [
       "<matplotlib.figure.Figure at 0x118700198>"
      ]
     },
     "metadata": {},
     "output_type": "display_data"
    }
   ],
   "source": [
    "bins = np.linspace(0,21,22)\n",
    "for room_type in listings.room_type.unique():\n",
    "    hist, bin_edges = np.histogram(listings['minimum_nights'][listings.room_type == room_type], bins)\n",
    "    plt.figure()\n",
    "    plt.bar(((bins[:-1] + bins[1:])/2), hist)"
   ]
  },
  {
   "cell_type": "markdown",
   "metadata": {},
   "source": [
    "I could have also used subplots and selected the different axes for each room type, via `plt.sca`."
   ]
  },
  {
   "cell_type": "markdown",
   "metadata": {},
   "source": [
    "## 4. How does the mean price of listings vary with the number of listings for each host?\n",
    "\n",
    "(It took me 20 minutes to get here, with some help looking at the `matplotlib` functions)."
   ]
  },
  {
   "cell_type": "code",
   "execution_count": 91,
   "metadata": {
    "ExecuteTime": {
     "end_time": "2019-02-06T09:45:16.048502Z",
     "start_time": "2019-02-06T09:45:16.039006Z"
    }
   },
   "outputs": [],
   "source": [
    "data_listings = listings[['host_id', 'price']]\n",
    "listings_number = data_listings.groupby('host_id').count()\n",
    "listings_price = data_listings.groupby('host_id').mean()"
   ]
  },
  {
   "cell_type": "code",
   "execution_count": 116,
   "metadata": {
    "ExecuteTime": {
     "end_time": "2019-02-06T09:51:56.725265Z",
     "start_time": "2019-02-06T09:51:56.720799Z"
    }
   },
   "outputs": [],
   "source": [
    "mean_price_and_count = pd.merge(listings_price, listings_number,\n",
    "                                left_index=True, right_index=True,\n",
    "                                suffixes=('_mean', '_count'))"
   ]
  },
  {
   "cell_type": "code",
   "execution_count": 117,
   "metadata": {
    "ExecuteTime": {
     "end_time": "2019-02-06T09:51:57.357258Z",
     "start_time": "2019-02-06T09:51:57.145727Z"
    }
   },
   "outputs": [
    {
     "data": {
      "image/png": "[encoded data removed]",
      "text/plain": [
       "<matplotlib.figure.Figure at 0x1197be2b0>"
      ]
     },
     "metadata": {},
     "output_type": "display_data"
    }
   ],
   "source": [
    "plt.plot(mean_price_and_count['price_mean'],\n",
    "        mean_price_and_count['price_count'],\n",
    "        '.')\n",
    "plt.xlim([0, 2000])\n",
    "plt.ylim([0, 20])\n",
    "plt.xlabel('Mean price in £')\n",
    "plt.ylabel('Number of listings')\n",
    "plt.title('Plot with the shape of the choice answers');"
   ]
  },
  {
   "cell_type": "markdown",
   "metadata": {},
   "source": [
    "The Pandas version I was using until now was a bit outdated (`0.20.1` as per `pd.__version__`). This means that `merge` doesn't work on named Series, which explains why my code is different than the suggested solution.\n",
    "\n",
    "**May 5, 2017**, go figure. That must be the last time I did something \"for real\" with Pandas."
   ]
  },
  {
   "cell_type": "markdown",
   "metadata": {
    "ExecuteTime": {
     "end_time": "2019-02-06T09:51:33.109702Z",
     "start_time": "2019-02-06T09:51:33.105847Z"
    }
   },
   "source": [
    "# 5. What is the cumulative percentage of the number of listings per host, ranked from most to fewest?\n",
    "\n",
    "(27 minutes to go)"
   ]
  },
  {
   "cell_type": "code",
   "execution_count": 140,
   "metadata": {
    "ExecuteTime": {
     "end_time": "2019-02-06T10:05:30.363482Z",
     "start_time": "2019-02-06T10:05:30.359725Z"
    }
   },
   "outputs": [
    {
     "data": {
      "text/plain": [
       "'0.20.1'"
      ]
     },
     "execution_count": 140,
     "metadata": {},
     "output_type": "execute_result"
    }
   ],
   "source": [
    "pd.__version__"
   ]
  },
  {
   "cell_type": "code",
   "execution_count": 138,
   "metadata": {
    "ExecuteTime": {
     "end_time": "2019-02-06T09:58:02.551927Z",
     "start_time": "2019-02-06T09:58:02.541860Z"
    }
   },
   "outputs": [
    {
     "data": {
      "text/html": [
       "<div>\n",
       "<style>\n",
       "    .dataframe thead tr:only-child th {\n",
       "        text-align: right;\n",
       "    }\n",
       "\n",
       "    .dataframe thead th {\n",
       "        text-align: left;\n",
       "    }\n",
       "\n",
       "    .dataframe tbody tr th {\n",
       "        vertical-align: top;\n",
       "    }\n",
       "</style>\n",
       "<table border=\"1\" class=\"dataframe\">\n",
       "  <thead>\n",
       "    <tr style=\"text-align: right;\">\n",
       "      <th></th>\n",
       "      <th>Animal</th>\n",
       "      <th>Max Speed</th>\n",
       "    </tr>\n",
       "  </thead>\n",
       "  <tbody>\n",
       "    <tr>\n",
       "      <th>0</th>\n",
       "      <td>Falcon</td>\n",
       "      <td>750.0</td>\n",
       "    </tr>\n",
       "    <tr>\n",
       "      <th>1</th>\n",
       "      <td>Parrot</td>\n",
       "      <td>50.0</td>\n",
       "    </tr>\n",
       "  </tbody>\n",
       "</table>\n",
       "</div>"
      ],
      "text/plain": [
       "   Animal  Max Speed\n",
       "0  Falcon      750.0\n",
       "1  Parrot       50.0"
      ]
     },
     "execution_count": 138,
     "metadata": {},
     "output_type": "execute_result"
    }
   ],
   "source": [
    "a=df.groupby('Animal', as_index=False).sum()\n",
    "a"
   ]
  },
  {
   "cell_type": "code",
   "execution_count": null,
   "metadata": {},
   "outputs": [],
   "source": []
  }
 ],
 "metadata": {
  "kernelspec": {
   "display_name": "Python 3",
   "language": "python",
   "name": "python3"
  },
  "language_info": {
   "codemirror_mode": {
    "name": "ipython",
    "version": 3
   },
   "file_extension": ".py",
   "mimetype": "text/x-python",
   "name": "python",
   "nbconvert_exporter": "python",
   "pygments_lexer": "ipython3",
   "version": "3.6.2"
  }
 },
 "nbformat": 4,
 "nbformat_minor": 2
}
